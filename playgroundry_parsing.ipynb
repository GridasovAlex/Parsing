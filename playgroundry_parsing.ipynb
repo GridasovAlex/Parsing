{
 "cells": [
  {
   "cell_type": "code",
   "execution_count": 2,
   "metadata": {},
   "outputs": [],
   "source": [
    "import requests\n",
    "import pandas as pd\n",
    "from bs4 import BeautifulSoup as BS"
   ]
  },
  {
   "cell_type": "code",
   "execution_count": 3,
   "metadata": {},
   "outputs": [
    {
     "data": {
      "text/html": [
       "<div>\n",
       "<style scoped>\n",
       "    .dataframe tbody tr th:only-of-type {\n",
       "        vertical-align: middle;\n",
       "    }\n",
       "\n",
       "    .dataframe tbody tr th {\n",
       "        vertical-align: top;\n",
       "    }\n",
       "\n",
       "    .dataframe thead th {\n",
       "        text-align: right;\n",
       "    }\n",
       "</style>\n",
       "<table border=\"1\" class=\"dataframe\">\n",
       "  <thead>\n",
       "    <tr style=\"text-align: right;\">\n",
       "      <th></th>\n",
       "      <th>Title</th>\n",
       "      <th>Genres</th>\n",
       "      <th>Platforms</th>\n",
       "    </tr>\n",
       "  </thead>\n",
       "  <tbody>\n",
       "    <tr>\n",
       "      <th>0</th>\n",
       "      <td>Moscow Rush</td>\n",
       "      <td>Симулятор, Инди, От третьего лица</td>\n",
       "      <td>PC</td>\n",
       "    </tr>\n",
       "    <tr>\n",
       "      <th>1</th>\n",
       "      <td>Six Days in Fallujah</td>\n",
       "      <td>Экшен, Шутер, Тактика, От первого лица</td>\n",
       "      <td>PC, PS4, Xbox One, PS5, Xbox SX</td>\n",
       "    </tr>\n",
       "    <tr>\n",
       "      <th>2</th>\n",
       "      <td>Asylum</td>\n",
       "      <td>Адвенчура, Ужасы, От первого лица</td>\n",
       "      <td>PC</td>\n",
       "    </tr>\n",
       "    <tr>\n",
       "      <th>3</th>\n",
       "      <td>GTR 3</td>\n",
       "      <td>Симулятор, Гонки, Автомобили</td>\n",
       "      <td>PC</td>\n",
       "    </tr>\n",
       "    <tr>\n",
       "      <th>4</th>\n",
       "      <td>Ready to Run</td>\n",
       "      <td>Аркада</td>\n",
       "      <td>PS4</td>\n",
       "    </tr>\n",
       "  </tbody>\n",
       "</table>\n",
       "</div>"
      ],
      "text/plain": [
       "                  Title                                  Genres  \\\n",
       "0           Moscow Rush       Симулятор, Инди, От третьего лица   \n",
       "1  Six Days in Fallujah  Экшен, Шутер, Тактика, От первого лица   \n",
       "2                Asylum       Адвенчура, Ужасы, От первого лица   \n",
       "3                 GTR 3            Симулятор, Гонки, Автомобили   \n",
       "4          Ready to Run                                  Аркада   \n",
       "\n",
       "                         Platforms  \n",
       "0                               PC  \n",
       "1  PC, PS4, Xbox One, PS5, Xbox SX  \n",
       "2                               PC  \n",
       "3                               PC  \n",
       "4                              PS4  "
      ]
     },
     "metadata": {},
     "output_type": "display_data"
    }
   ],
   "source": [
    "game_name_list = []\n",
    "game_genre_list = []\n",
    "mean_estimation_list = []\n",
    "game_platform_list = []\n",
    "\n",
    "for n in range(1,605):\n",
    "    url = f'https://www.playground.ru/games?release=all&sort=time&p={n}'\n",
    "    igor = requests.get(url).text\n",
    "    soup = BS(igor, 'lxml')\n",
    "\n",
    "    items = soup.find_all('div', class_=\"info\")\n",
    "    for elem in items:\n",
    "        # ищем имя\n",
    "        name = elem.find('div', class_=\"media-heading title\").find('a').text\n",
    "        game_name_list.append(name)\n",
    "            \n",
    "        # ищем оценку\n",
    "        # estimation = elem.find('span', class_=\"value js-game-rating-value\").text\n",
    "        # mean_estimation_list.append(estimation)\n",
    "        \n",
    "        # ищем жанры\n",
    "        geners = elem.find('div', class_=\"meta-info\").find_next().find_next_sibling().find_all('a')\n",
    "        genre_list = []\n",
    "        for gener in geners:\n",
    "            genre_list.append(gener.get_text())\n",
    "            genre_str = \", \".join(genre_list)\n",
    "        game_genre_list.append(genre_str)\n",
    "\n",
    "        # ищем платформы\n",
    "        platforms = elem.find('div', class_=\"meta-info\").find_next().find_next_sibling().find_next_sibling().find_all('span')\n",
    "        platform_list = []\n",
    "        for platform in platforms:\n",
    "            platform_list.append(platform.get_text())\n",
    "            platform_str = \", \".join(platform_list)\n",
    "        game_platform_list.append(platform_str)\n",
    "\n",
    "game_dt = pd.DataFrame({\n",
    "    \"Title\":game_name_list,\n",
    "    \"Genres\":game_genre_list,\n",
    "    \"Platforms\":game_platform_list\n",
    "})\n",
    "display(game_dt.head())"
   ]
  },
  {
   "cell_type": "code",
   "execution_count": 4,
   "metadata": {},
   "outputs": [
    {
     "name": "stdout",
     "output_type": "stream",
     "text": [
      "<class 'pandas.core.frame.DataFrame'>\n",
      "RangeIndex: 18100 entries, 0 to 18099\n",
      "Data columns (total 3 columns):\n",
      " #   Column     Non-Null Count  Dtype \n",
      "---  ------     --------------  ----- \n",
      " 0   Title      18100 non-null  object\n",
      " 1   Genres     18100 non-null  object\n",
      " 2   Platforms  18100 non-null  object\n",
      "dtypes: object(3)\n",
      "memory usage: 424.3+ KB\n"
     ]
    }
   ],
   "source": [
    "game_dt.info()"
   ]
  }
 ],
 "metadata": {
  "kernelspec": {
   "display_name": "Python 3",
   "language": "python",
   "name": "python3"
  },
  "language_info": {
   "codemirror_mode": {
    "name": "ipython",
    "version": 3
   },
   "file_extension": ".py",
   "mimetype": "text/x-python",
   "name": "python",
   "nbconvert_exporter": "python",
   "pygments_lexer": "ipython3",
   "version": "3.9.10"
  },
  "orig_nbformat": 4
 },
 "nbformat": 4,
 "nbformat_minor": 2
}
