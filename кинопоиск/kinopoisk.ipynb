{
 "cells": [
  {
   "cell_type": "code",
   "execution_count": 1,
   "metadata": {},
   "outputs": [],
   "source": [
    "# необходимый импорт\n",
    "import pandas as pd\n",
    "import numpy as np\n",
    "import requests\n",
    "from bs4 import BeautifulSoup as BS\n"
   ]
  },
  {
   "cell_type": "code",
   "execution_count": 2,
   "metadata": {},
   "outputs": [],
   "source": [
    "# создаем нужные списки\n",
    "titles = []"
   ]
  },
  {
   "cell_type": "code",
   "execution_count": 11,
   "metadata": {},
   "outputs": [
    {
     "data": {
      "text/plain": [
       "b'<body></body><script nonce=\\'cf38ec68bc448f7c0761340b46e41121\\'>var it = {\"host\":\"https:\\\\u002F\\\\u002Fsso.kinopoisk.ru\\\\u002Finstall?uuid=f77e69a4-43fd-4cab-987a-f0c0e5ad8e04\",\"retpath\":\"https:\\\\u002F\\\\u002Fwww.kinopoisk.ru\\\\u002Flists\\\\u002Fmovies\\\\u002Ftop250\\\\u002F?utm_referrer=yandex.ru&page=1\"};(function() { var form = document.createElement(\\'form\\'); var element1 = document.createElement(\\'input\\'); var element2 = document.createElement(\\'input\\'); element1.name = \\'retpath\\'; element1.type = \\'hidden\\'; element1.value = it.retpath; form.appendChild(element1); element2.name = \\'container\\'; element2.type = \\'hidden\\'; element2.value = \\'1706529157.10142210.KR-cMHuFTribEdBQ.qX0v2yHhElQ7f4Z51MplXgRRGNj9bAzoIKekra2ealY-0yQrihwaXED8aIUgEz6etJgvTM8I2dtc58pz7opu_OdcCJquPhfyqqlVGaoXwl0wP7UW_IsP3BgmBl405ERmbCwJXl3A6NcYGx0mLTzzeO-9FRhVHDuIcWtheGkyplD22bkczrDPCck1VvWIowSogqMFTydw06rkzkk8HzEZnQCrnIGOcxwt1KPYvnT_xeYk50WgJtAVtUF1rhpJPSFsc2BJ2MTNknDvcLSIutqXAeW24xoihALshuCw7XvjiKULpXx9QOHU3lXsRiRXbDpQqby1OxRnjW_QYfByMhaXke9merwesx9nHTRWgfxuPGetoUknDU6JxlzGNeCw0pyfLzXh2kkiGS4YiI5nLXpSN0wJ9c2hiX5p-SRBYdvL9yZQRn8JP1_nHSnAx_Lbi_vgseZg_5hoQd6E5AS7BIYiy-QGrP09WFG6sDfx6g6r9GIZTILU6LGHpospDQTRXP47YMcF2pCA8OCw0p2tGGQ7etuWRSHGed83UYdmwou2YlRRoUo-LgawiA6JeGwD5yxjoAAqYbJ1ZPPOEuHOiHhDPsmsafFQPH0v-pESCewiXjIGpEidWZAmgEq7BuI93dcM_qzgcnP0u3OE0XS8Cj4AnombZpybSj88swwAcPJFkg9F0LjOYrS47MTHGt9jfQ27PQcfx8sx-xVINXneII6lFD8hrg1UVGJ1jGm7dk9uZCjylJN73Cdd8zZstgk-xFcBglApFv8UP-g04jAjFc_pjgUucxWNUe7Ehgg7jOmyL0vl3JBjuN5mil-nXxGSLRKrq8wJXJp8LgFDpVL7PSYmOIg4pumNQioKCepcNIHnjXSsHJR1rq_4MCgOduJG3d-t_OKY0lzibhjZ76M32w2nSLTK0k1D91o9VQn7D9oD-vdP-vmhHHu69VkYqRhRZW40XQrUqotkXu4NZmAPvbI-EDsWIVdN1VURlftyOep8QheqnZOjzFaP7Uj9WNKuXVfXoZkCnggJMXcEVnpd51JD9iycUwGCR7tgrcFR0xNcjkQIjVSmaRRexKFmiHJIlZ2VG3GMmapnnMJsbzKxC8FOQQM0do9UElD33WTPcwL8CUnL9lDjTouMduvNVLRcvNUh4LTcNK4_EUjodB8hbw8cdvLnRGhsYsWrrrsSIRSfG6KHlQUyOyhfytpqLc5DcZCRIEvzeikeNVUcRZ4v1LNIzsBNW-gQMGtjcVOZ78dcG4XFDSvThUd40RA0l1juOomf24mVn5BAlEEYTK98oiL8A3DSBTpGewljPaK9v_p7OrkhcYflffYJuxNPb8Zlhb672lWOjtGhQHLmOr-z1nZ9wTunRhnprwEayXDUh5M_0g.01S0jTfu-zzSp4SFI9SWBw\\'; form.appendChild(element2); form.method = \\'POST\\'; form.action = it.host; document.body.appendChild(form); form.submit();})();</script>'"
      ]
     },
     "metadata": {},
     "output_type": "display_data"
    }
   ],
   "source": [
    "# парсим сайт кинопоиск\n",
    "\n",
    "headers = {\n",
    "    'charset': 'utf-8',\n",
    "    'Accept': '*/*',\n",
    "    'User-Agent': 'Mozilla/5.0 (Windows NT 10.0; Win64; x64) AppleWebKit/537.36 (KHTML, like Gecko) Chrome/118.0.0.0 YaBrowser/23.11.0.0 Safari/537.36'\n",
    "}\n",
    "\n",
    "url = f'https://www.kinopoisk.ru/lists/movies/top250/?utm_referrer=yandex.ru&page=1'\n",
    "get_req = requests.get(url, headers=headers).content\n",
    "soup = BS(get_req, 'lxml')\n",
    "display(get_req)\n"
   ]
  }
 ],
 "metadata": {
  "kernelspec": {
   "display_name": "Python 3",
   "language": "python",
   "name": "python3"
  },
  "language_info": {
   "codemirror_mode": {
    "name": "ipython",
    "version": 3
   },
   "file_extension": ".py",
   "mimetype": "text/x-python",
   "name": "python",
   "nbconvert_exporter": "python",
   "pygments_lexer": "ipython3",
   "version": "3.9.10"
  }
 },
 "nbformat": 4,
 "nbformat_minor": 2
}
