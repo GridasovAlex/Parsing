{
 "cells": [
  {
   "cell_type": "code",
   "execution_count": 2,
   "metadata": {},
   "outputs": [],
   "source": [
    "# необходимый импорт\n",
    "import pandas as pd\n",
    "import numpy as np\n",
    "import requests\n",
    "from bs4 import BeautifulSoup as BS\n"
   ]
  },
  {
   "cell_type": "code",
   "execution_count": 5,
   "metadata": {},
   "outputs": [],
   "source": [
    "# создаем нужные списки\n",
    "titles = []\n"
   ]
  },
  {
   "cell_type": "code",
   "execution_count": 16,
   "metadata": {},
   "outputs": [
    {
     "data": {
      "text/plain": [
       "<!DOCTYPE html>\n",
       "<html prefix=\"og: http://ogp.me/ns#\"><head><meta content=\"IE=edge\" http-equiv=\"X-UA-Compatible\"/><meta charset=\"utf-8\"/><meta content=\"width=device-width,initial-scale=1\" name=\"viewport\"/><title data-react-helmet=\"true\">ÐÐ¹, ÐÐ°Ð¿ÑÐ°!</title><meta content=\"Ð¯Ð½Ð´ÐµÐºÑ\" data-react-helmet=\"true\" property=\"og:title\"/><meta content=\"ÐÐ°Ð¹Ð´ÑÑÑÑ Ð²ÑÑ\" data-react-helmet=\"true\" property=\"og:description\"/><meta content=\"https://yastatic.net/s3/home-static/_/37/37a02b5dc7a51abac55d8a5b6c865f0e.png\" data-react-helmet=\"true\" property=\"og:image\"/><link href=\"/captcha_smart.564ac0926e637bbeeea9.min.css?k=1701984458226\" rel=\"stylesheet\"/><style>@media only screen and (min-width:651px){body{background-image:url('https://captcha-backgrounds.s3.yandex.net/static/kinopoisk-background.jpg')}}.LogoLink{background-image:url('data:image/svg+xml;base64,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')}</style></head><body><div id=\"root\"><div class=\"Theme Theme_color_yandex-default Theme_root_default\"><div class=\"Container\"><div class=\"Spacer\" style=\"padding-bottom:40px\"><a class=\"Link Link_view_default LogoLink\" href=\"https://kinopoisk.ru\" title=\"Kinopoisk\"></a></div><form action=\"/checkcaptcha?key=f0c12062-f89cd7d1-f761aa70-4cbda945_2/1705572852/06e3194f5f94a4825dc71108b603fc5b_6406a47cf1853e19f9421db3fb117db0&amp;mt=BB88756BB1C56FCE0D0E01AF54D343FC8DA25B6BF3E81EDF7271C26F0549A31B91C3E006BC265FEF7F16F5DA5B0ED72339788CA3DFC64802E2CBD5D7EB6B549DF69868E2C6C7131581A512627F419D8C42B9CED7BFB539E0666F9FE8774A0B9599C0D82542C3E3E4C7768653D63018CCE74BC6&amp;retpath=aHR0cHM6Ly93d3cua2lub3BvaXNrLnJ1L2xpc3RzL21vdmllcy90b3AyNTA_dXRtX3JlZmVycmVyPXlhbmRleC5ydSZwYWdlPTE%2C_940d148ff7b892793fc957e49a4947a7&amp;u=7d2c619a-e1d37ad1-6909eb8e-2ab51d63&amp;s=db3e7adc0149efeb1f9ca2637525ed3a\" id=\"checkbox-captcha-form\" method=\"POST\"><div class=\"Spacer\" style=\"padding-bottom:16px\"><span class=\"Text Text_weight_medium Text_typography_headline-s\">ÐÐ¾Ð´ÑÐ²ÐµÑÐ´Ð¸ÑÐµ, ÑÑÐ¾ Ð·Ð°Ð¿ÑÐ¾ÑÑ Ð¾ÑÐ¿ÑÐ°Ð²Ð»ÑÐ»Ð¸ Ð²Ñ, Ð° Ð½Ðµ ÑÐ¾Ð±Ð¾Ñ</span></div><div class=\"Spacer\" style=\"padding-bottom:16px\"><span class=\"Text Text_weight_regular Text_typography_body-long-m\">ÐÐ°Ð¼ Ð¾ÑÐµÐ½Ñ Ð¶Ð°Ð»Ñ, Ð½Ð¾ Ð·Ð°Ð¿ÑÐ¾ÑÑ Ñ Ð²Ð°ÑÐµÐ³Ð¾ ÑÑÑÑÐ¾Ð¹ÑÑÐ²Ð° Ð¿Ð¾Ñ\n",
       "Ð¾Ð¶Ð¸ Ð½Ð° Ð°Ð²ÑÐ¾Ð¼Ð°ÑÐ¸ÑÐµÑÐºÐ¸Ðµ.Â  Â <a class=\"Link Link_view_default\" href=\"https://yandex.ru/support/smart-captcha?unique_key=7d2c619a-e1d37ad1-6909eb8e-2ab51d63#help\">ÐÐ¾ÑÐµÐ¼Ñ ÑÑÐ¾ Ð¼Ð¾Ð³Ð»Ð¾ Ð¿ÑÐ¾Ð¸Ð·Ð¾Ð¹ÑÐ¸?</a></span></div><noscript><span class=\"Text Text_color_alert Text_weight_medium Text_typography_body-long-m\">Ð£ Ð²Ð°Ñ Ð¾ÑÐºÐ»ÑÑÐµÐ½Ð¾ Ð¸ÑÐ¿Ð¾Ð»Ð½ÐµÐ½Ð¸Ðµ JavaScript. ÐÐ¾ Ð½Ð°Ð¶Ð°ÑÐ¸Ñ Ð²Ñ Ð±ÑÐ´ÐµÑÐµ Ð½Ð°Ð¿ÑÐ°Ð²Ð»ÐµÐ½Ñ Ð½Ð° Ð´Ð¾Ð¿Ð¾Ð»Ð½Ð¸ÑÐµÐ»ÑÐ½ÑÑ Ð¿ÑÐ¾Ð²ÐµÑÐºÑ.Â <a class=\"Link Link_view_default\" href=\"https://yandex.ru/support/common/browsers-settings/browsers-java-js-settings.html\">ÐÐ°Ðº Ð²ÐºÐ»ÑÑÐ¸ÑÑ JavaScript?</a></span></noscript><div class=\"Spacer Spacer_auto-gap_bottom\" style=\"padding-top:40px;padding-bottom:40px\"><div class=\"CheckboxCaptcha\" data-testid=\"checkbox-captcha\"><div class=\"CheckboxCaptcha-Inner\"><div class=\"CheckboxCaptcha-Anchor\"><input aria-checked=\"false\" aria-labelledby=\"smartcaptcha-status\" class=\"CheckboxCaptcha-Button\" id=\"js-button\" role=\"checkbox\" type=\"button\"/><noscript><input aria-checked=\"false\" aria-labelledby=\"smartcaptcha-status\" class=\"CheckboxCaptcha-Button\" role=\"checkbox\" type=\"submit\"/></noscript><div class=\"CheckboxCaptcha-Checkbox\" data-checked=\"false\"><svg class=\"SvgIcon CheckIcon\" fill=\"none\" height=\"24\" viewbox=\"0 0 24 25\" width=\"24\"><path d=\"M4 12.5L9.5 18.5L20 6.5\" stroke=\"#000\" stroke-linecap=\"round\" stroke-linejoin=\"round\" stroke-width=\"3\"></path></svg></div></div><div class=\"CheckboxCaptcha-Label\"><span class=\"Text Text_weight_regular Text_typography_control-xxl CheckboxCaptcha-LabelText\">Ð¯ Ð½Ðµ ÑÐ¾Ð±Ð¾Ñ</span><span class=\"Text Text_color_control-secondary Text_weight_regular Text_typography_control-l CheckboxCaptcha-SecondaryText\">ÐÐ°Ð¶Ð¼Ð¸ÑÐµ, ÑÑÐ¾Ð±Ñ Ð¿ÑÐ¾Ð´Ð¾Ð»Ð¶Ð¸ÑÑ</span></div></div><div class=\"Text Text_color_ghost Text_weight_regular Text_typography_control-s CaptchaLinks CheckboxCaptcha-Links\"><div class=\"CaptchaLinks-Links\"><a aria-describedby=\"service-link-description\" class=\"Link Link_color_secondary Link_view_captcha\" color=\"secondary\" href=\"https://cloud.yandex.ru/services/smartcaptcha?utm_source=captcha&amp;utm_medium=chbx&amp;utm_campaign=security\" target=\"_blank\">SmartCaptcha by Yandex Cloud</a><div class=\"visuallyhidden\" id=\"service-link-description\">Ð¡Ð°Ð¹Ñ Ñ Ð¸Ð½ÑÐ¾ÑÐ¼Ð°ÑÐ¸ÐµÐ¹ Ð¾ Ð¿ÑÐ¾ÐµÐºÑÐµ SmartCaptcha</div><div class=\"visuallyhidden\" id=\"privacy-link-description\">Ð¡Ð°Ð¹Ñ Ñ Ð¸Ð½ÑÐ¾ÑÐ¼Ð°ÑÐ¸ÐµÐ¹ Ð¾Ð± Ð¾Ð±ÑÐ°Ð±Ð¾ÑÐºÐµ Ð´Ð°Ð½Ð½ÑÑ\n",
       "</div><div class=\"visuallyhidden\" id=\"support-link-description\">support-link-description</div></div><button aria-description=\"ÐÐ¾ÐºÐ°Ð·Ð°ÑÑ Ð´Ð¾Ð¿Ð¾Ð»Ð½Ð¸ÑÐµÐ»ÑÐ½ÑÐµ ÑÑÑÐ»ÐºÐ¸ Ñ ÑÐ¾ÑÐ¼Ð¾Ð¹ Ð¾Ð±ÑÐ°ÑÐ½Ð¾Ð¹ ÑÐ²ÑÐ·Ð¸ Ð¸ Ð¿Ð¾Ð»Ð¸ÑÐ¸ÐºÐ¾Ð¹ Ð¾Ð±ÑÐ°Ð±Ð¾ÑÐºÐ¸ Ð´Ð°Ð½Ð½ÑÑ\n",
       "\" aria-label=\"ÐÐ¾ÐºÐ°Ð·Ð°ÑÑ ÑÑÑÐ»ÐºÐ¸\" aria-pressed=\"false\" class=\"CaptchaButton CaptchaButton_view_clear CaptchaButton_size_m CaptchaLinks-ToggleButton CaptchaLinks-ToggleButton_checkbox\" type=\"button\"><svg class=\"SvgIcon\" fill=\"none\" height=\"22\" viewbox=\"0 0 22 22\" width=\"22\" xmlns=\"http://www.w3.org/2000/svg\"><path clip-rule=\"evenodd\" d=\"M11 18.5625C15.1766 18.5625 18.5625 15.1766 18.5625 11C18.5625 6.82334 15.1766 3.4375 11 3.4375C6.82334 3.4375 3.4375 6.82334 3.4375 11C3.4375 15.1766 6.82334 18.5625 11 18.5625ZM11 20.625C16.3157 20.625 20.625 16.3157 20.625 11C20.625 5.68426 16.3157 1.375 11 1.375C5.68426 1.375 1.375 5.68426 1.375 11C1.375 16.3157 5.68426 20.625 11 20.625ZM8.85528 6.24171C9.44645 5.75611 10.2222 5.46546 11 5.46546C12.6736 5.46546 14.2167 6.59336 14.2167 8.409C14.2167 8.92624 14.1095 9.43266 13.8078 9.92185C13.5213 10.3865 13.1023 10.7646 12.6048 11.1132C12.3057 11.3227 12.1569 11.4663 12.0839 11.5642C12.0312 11.6348 12.0312 11.661 12.0313 11.686L12.0313 11.6872C12.0313 12.2567 11.5695 12.7185 11 12.7185C10.4305 12.7185 9.96876 12.2567 9.96876 11.6872C9.96876 10.5945 10.7163 9.9179 11.4214 9.42397C11.806 9.15451 11.9732 8.9675 12.0523 8.83924C12.1163 8.73548 12.1542 8.62111 12.1542 8.409C12.1542 7.9976 11.8192 7.52796 11 7.52796C10.718 7.52796 10.401 7.6411 10.1644 7.83546C9.9342 8.02457 9.84579 8.22978 9.84579 8.409C9.84579 8.97854 9.38408 9.44025 8.81454 9.44025C8.24499 9.44025 7.78329 8.97854 7.78329 8.409C7.78329 7.48351 8.25771 6.73257 8.85528 6.24171ZM11 16.5C11.7594 16.5 12.375 15.8844 12.375 15.125C12.375 14.3656 11.7594 13.75 11 13.75C10.2406 13.75 9.625 14.3656 9.625 15.125C9.625 15.8844 10.2406 16.5 11 16.5Z\" fill=\"currentColor\" fill-rule=\"evenodd\"></path></svg></button></div><div class=\"CheckboxCaptcha-Status visuallyhidden\" id=\"smartcaptcha-status\">SmartCaptcha Ð½ÑÐ¶Ð½Ð° Ð¿ÑÐ¾Ð²ÐµÑÐºÐ° Ð¿Ð¾Ð»ÑÐ·Ð¾Ð²Ð°ÑÐµÐ»Ñ</div></div></div><span class=\"Text Text_color_ghost Text_weight_regular Text_typography_control-xs\">ÐÑÐ»Ð¸ Ñ Ð²Ð°Ñ Ð²Ð¾Ð·Ð½Ð¸ÐºÐ»Ð¸ Ð¿ÑÐ¾Ð±Ð»ÐµÐ¼Ñ, Ð¿Ð¾Ð¶Ð°Ð»ÑÐ¹ÑÑÐ°, Ð²Ð¾ÑÐ¿Ð¾Ð»ÑÐ·ÑÐ¹ÑÐµÑÑÂ <a class=\"Link Link_view_default\" href=\"https://yandex.ru/support/smart-captcha?unique_key=7d2c619a-e1d37ad1-6909eb8e-2ab51d63#help\">ÑÐ¾ÑÐ¼Ð¾Ð¹ Ð¾Ð±ÑÐ°ÑÐ½Ð¾Ð¹ ÑÐ²ÑÐ·Ð¸</a></span><input name=\"rdata\" type=\"hidden\"/><input name=\"pdata\" type=\"hidden\" value=\"eyJwb3dDYWxjVGltZSI6LTEsInBvd05vbmNlIjoiIiwicG93UHJlZml4IjoiIn0=\"/><input name=\"tdata\" type=\"hidden\"/></form></div></div></div><script>const button=document.getElementById(\"js-button\");button.addEventListener(\"click\",function n(t){window.__JS_BUTTON_CLICKED__=!0,this.removeEventListener(\"click\",n,!1)},!1),window.onerror=function(n,t){0===t.indexOf(window.location.origin+\"/captcha_smart.564ac0926e637bbeeea9.min.js\")&&(button.type=\"submit\",window.Ya&&window.Ya.Rum&&window.Ya.Rum.logEventString&&window.Ya.Rum.logEventString(\"js_fail_force_submit_type\",n,{page:\"checkbox\"}))}</script> <script>window.__SSR_DATA__={url:\"/ru/checkbox\",invalid:\"no\",formAction:\"/checkcaptcha?key=f0c12062-f89cd7d1-f761aa70-4cbda945_2/1705572852/06e3194f5f94a4825dc71108b603fc5b_6406a47cf1853e19f9421db3fb117db0&mt=BB88756BB1C56FCE0D0E01AF54D343FC8DA25B6BF3E81EDF7271C26F0549A31B91C3E006BC265FEF7F16F5DA5B0ED72339788CA3DFC64802E2CBD5D7EB6B549DF69868E2C6C7131581A512627F419D8C42B9CED7BFB539E0666F9FE8774A0B9599C0D82542C3E3E4C7768653D63018CCE74BC6&retpath=aHR0cHM6Ly93d3cua2lub3BvaXNrLnJ1L2xpc3RzL21vdmllcy90b3AyNTA_dXRtX3JlZmVycmVyPXlhbmRleC5ydSZwYWdlPTE%2C_940d148ff7b892793fc957e49a4947a7&u=7d2c619a-e1d37ad1-6909eb8e-2ab51d63&s=db3e7adc0149efeb1f9ca2637525ed3a\",captchaKey:\"f0c12062-f89cd7d1-f761aa70-4cbda945_2/1705572852/06e3194f5f94a4825dc71108b603fc5b_6406a47cf1853e19f9421db3fb117db0\",imageSrc:\"\",taskImageSrc:\"\",task:\"\",voiceSrc:\"\",introSrc:\"\",aesKey:\"WZIcLoX1NaEhK8nfuHdoCQ9B+5ReIVH7pzXWg4Wu14U=\",aesSign:\"1_1705572852_5278309279228341777_74942feb387974eee76bc845c2c36095\",reqId:\"\",uniqueKey:\"7d2c619a-e1d37ad1-6909eb8e-2ab51d63\",powPrefix:\"743D313730353537323835323B703D36643039646261642D38616163316437382D336539653332652D62323161313630613B633D31353B643D46414334393637304641303832364333454546424344374245384435303643413B\",powComplexity:\"15\",sitekey:\"\",smartCaptchaHost:\"\"}</script><script crossorigin=\"\" src=\"/captcha_smart_error.564ac0926e637bbeeea9.min.js?k=1701984458226\"></script><script crossorigin=\"\" src=\"/captcha_smart_react.min.js?k=1701984458226\"></script><script crossorigin=\"\" src=\"/captcha_smart.564ac0926e637bbeeea9.min.js?k=1701984458226\"></script><script>!function(e,n,t,a,c){e.ym=e.ym||function(){(e.ym.a=e.ym.a||[]).push(arguments)},e.ym.l=+new Date,a=n.createElement(t),c=n.getElementsByTagName(t)[0],a.async=1,a.src=\"https://mc.yandex.ru/metrika/tag.js\",c.parentNode.insertBefore(a,c)}(window,document,\"script\"),ym(10630330,\"init\",{clickmap:!0,trackLinks:!0,accurateTrackBounce:!0,webvisor:!0,ut:\"noindex\",params:{req_id:\"\",unique_key:\"7d2c619a-e1d37ad1-6909eb8e-2ab51d63\"}})</script><noscript><div><img alt=\"\" src=\"https://mc.yandex.ru/watch/10630330?ut=noindex\" style=\"position:absolute;left:-9999px\"/></div></noscript><div><img alt=\"\" src=\"https://adfstat.yandex.ru/captcha?req_id=&amp;unique_key=7d2c619a-e1d37ad1-6909eb8e-2ab51d63\" style=\"position:absolute;left:-9999px\"/></div></body></html>"
      ]
     },
     "metadata": {},
     "output_type": "display_data"
    },
    {
     "data": {
      "text/plain": [
       "[]"
      ]
     },
     "metadata": {},
     "output_type": "display_data"
    }
   ],
   "source": [
    "# парсим сайт кинопоиск\n",
    "\n",
    "headers = {\n",
    "    'Accept': '*/*',\n",
    "    'User-Agent': 'Mozilla/5.0 (Windows NT 10.0; Win64; x64) AppleWebKit/537.36 (KHTML, like Gecko) Chrome/118.0.0.0 YaBrowser/23.11.0.0 Safari/537.36'\n",
    "}\n",
    "\n",
    "for num in range(1,2):\n",
    "    url = f'https://www.kinopoisk.ru/lists/movies/top250/?utm_referrer=yandex.ru&page={num}'\n",
    "    get_req = requests.get(url, headers=headers).text\n",
    "    soup = BS(get_req, 'lxml')\n",
    "\n",
    "    tags = soup.find_all('div', class_='styles_content__nT2IG')\n",
    "    for tag in tags:\n",
    "\n",
    "        # название\n",
    "        title = tag.find('div', class_='base-movie-main-info_mainInfo__ZL_u3').find('span').text\n",
    "        titles.append(title)\n",
    "\n",
    "display(titles)\n"
   ]
  }
 ],
 "metadata": {
  "kernelspec": {
   "display_name": "Python 3",
   "language": "python",
   "name": "python3"
  },
  "language_info": {
   "codemirror_mode": {
    "name": "ipython",
    "version": 3
   },
   "file_extension": ".py",
   "mimetype": "text/x-python",
   "name": "python",
   "nbconvert_exporter": "python",
   "pygments_lexer": "ipython3",
   "version": "3.9.10"
  }
 },
 "nbformat": 4,
 "nbformat_minor": 2
}
