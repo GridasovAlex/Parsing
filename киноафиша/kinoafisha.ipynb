{
 "cells": [
  {
   "cell_type": "code",
   "execution_count": 13,
   "metadata": {},
   "outputs": [],
   "source": [
    "# необходимый импорт\n",
    "import pandas as pd\n",
    "import numpy as np\n",
    "import requests\n",
    "from bs4 import BeautifulSoup as BS"
   ]
  },
  {
   "cell_type": "code",
   "execution_count": 14,
   "metadata": {},
   "outputs": [],
   "source": [
    "# необходимые списки\n",
    "titles = []\n",
    "marks = []\n",
    "trailers = []\n",
    "years = []\n",
    "genres = []\n",
    "countrys = []"
   ]
  },
  {
   "cell_type": "code",
   "execution_count": 15,
   "metadata": {},
   "outputs": [
    {
     "data": {
      "text/html": [
       "<div>\n",
       "<style scoped>\n",
       "    .dataframe tbody tr th:only-of-type {\n",
       "        vertical-align: middle;\n",
       "    }\n",
       "\n",
       "    .dataframe tbody tr th {\n",
       "        vertical-align: top;\n",
       "    }\n",
       "\n",
       "    .dataframe thead th {\n",
       "        text-align: right;\n",
       "    }\n",
       "</style>\n",
       "<table border=\"1\" class=\"dataframe\">\n",
       "  <thead>\n",
       "    <tr style=\"text-align: right;\">\n",
       "      <th></th>\n",
       "      <th>title</th>\n",
       "      <th>mark</th>\n",
       "      <th>trailer</th>\n",
       "      <th>year</th>\n",
       "      <th>genre</th>\n",
       "      <th>country</th>\n",
       "    </tr>\n",
       "  </thead>\n",
       "  <tbody>\n",
       "  </tbody>\n",
       "</table>\n",
       "</div>"
      ],
      "text/plain": [
       "Empty DataFrame\n",
       "Columns: [title, mark, trailer, year, genre, country]\n",
       "Index: []"
      ]
     },
     "metadata": {},
     "output_type": "display_data"
    },
    {
     "name": "stdout",
     "output_type": "stream",
     "text": [
      "<class 'pandas.core.frame.DataFrame'>\n",
      "RangeIndex: 0 entries\n",
      "Data columns (total 6 columns):\n",
      " #   Column   Non-Null Count  Dtype  \n",
      "---  ------   --------------  -----  \n",
      " 0   title    0 non-null      float64\n",
      " 1   mark     0 non-null      float64\n",
      " 2   trailer  0 non-null      float64\n",
      " 3   year     0 non-null      float64\n",
      " 4   genre    0 non-null      float64\n",
      " 5   country  0 non-null      float64\n",
      "dtypes: float64(6)\n",
      "memory usage: 124.0 bytes\n"
     ]
    }
   ],
   "source": [
    "headers = {\n",
    "    'Accept': '*/*',\n",
    "    'User-Agent': 'Mozilla/5.0 (Windows NT 10.0; Win64; x64) AppleWebKit/537.36 (KHTML, like Gecko) Chrome/118.0.0.0 YaBrowser/23.11.0.0 Safari/537.36'\n",
    "}\n",
    "\n",
    "url = 'https://www.kinoafisha.info/rating/movies'\n",
    "get_req = requests.get(url, headers=headers).text\n",
    "soup = BS(get_req, 'lxml')\n",
    "\n",
    "page = soup.find_all('div', class_='movieList_item movieItem  movieItem-rating movieItem-position')\n",
    "for move in page:\n",
    "    mark = move.find('span', class_='movieItem_itemRating miniRating miniRating-good').text\n",
    "\n",
    "    info = move.find('div', class_='movieItem_info')\n",
    "    title = info.find('a', class_='movieItem_title').text\n",
    "    genre = info.find('span', class_='movieItem_genres').text\n",
    "    year = info.find('span', class_='movieItem_year').text.split(', ')[0]\n",
    "    country = info.find('span', class_='movieItem_year').text.split(', ')[1]\n",
    "    try:\n",
    "        trailer = info.find('a', class_='movieItem_trailer', href=True)['href']\n",
    "    except:\n",
    "        trailer = (np.nan)\n",
    "\n",
    "    titles.append(title)\n",
    "    marks.append(mark)\n",
    "    trailers.append(trailer)\n",
    "    years.append(year)\n",
    "    genres.append(genre)\n",
    "    countrys.append(country)\n",
    "\n",
    "for num in range(1,10):\n",
    "    url = f'https://www.kinoafisha.info/rating/movies/?page={num}'\n",
    "    get_req = requests.get(url, headers=headers).text\n",
    "    soup = BS(get_req, 'lxml')\n",
    "\n",
    "    page = soup.find_all('div', class_='movieList_item movieItem  movieItem-rating movieItem-position')\n",
    "    for move in page:\n",
    "        mark = move.find('span', class_='movieItem_itemRating miniRating miniRating-good').text\n",
    "\n",
    "        info = move.find('div', class_='movieItem_info')\n",
    "        title = info.find('a', class_='movieItem_title').text\n",
    "        genre = info.find('span', class_='movieItem_genres').text\n",
    "        year = info.find('span', class_='movieItem_year').text.split(', ')[0]\n",
    "        country = info.find('span', class_='movieItem_year').text.split(', ')[1]\n",
    "        try:\n",
    "            trailer = info.find('a', class_='movieItem_trailer', href=True)['href']\n",
    "        except:\n",
    "            trailer = (np.nan)\n",
    "\n",
    "        titles.append(title)\n",
    "        marks.append(mark)\n",
    "        trailers.append(trailer)\n",
    "        years.append(year)\n",
    "        genres.append(genre)\n",
    "        countrys.append(country)\n",
    "\n",
    "df = pd.DataFrame({\n",
    "    'title': title,\n",
    "    'mark': mark,\n",
    "    'trailer': trailer,\n",
    "    'year': year,\n",
    "    'genre': genre,\n",
    "    'country': country\n",
    "})\n",
    "display(df.head())\n",
    "df.info()"
   ]
  }
 ],
 "metadata": {
  "kernelspec": {
   "display_name": "Python 3",
   "language": "python",
   "name": "python3"
  },
  "language_info": {
   "codemirror_mode": {
    "name": "ipython",
    "version": 3
   },
   "file_extension": ".py",
   "mimetype": "text/x-python",
   "name": "python",
   "nbconvert_exporter": "python",
   "pygments_lexer": "ipython3",
   "version": "3.9.10"
  }
 },
 "nbformat": 4,
 "nbformat_minor": 2
}
